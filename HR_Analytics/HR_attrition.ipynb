{
 "cells": [
  {
   "cell_type": "markdown",
   "metadata": {},
   "source": [
    "<h1>HR Analytics</h1>\n",
    "\n",
    "**Objective**: Explore the HR data set and create models to predict employee attrition \n",
    "\n",
    "**Data source**: https://www.ibm.com/communities/analytics/watson-analytics-blog/hr-employee-attrition/\n",
    "<br>Fictional HR data set created by IBM data scientists. Contains 1470 observations, with 35 features and feature of interest is 'Attrition'. \n",
    "\n",
    "**Methodology**: \n",
    "1. Data pre-processing\n",
    "2. Conduct exploratory data analysis (EDA)\n",
    "3. Build models, use them to predict and evaluate performance"
   ]
  },
  {
   "cell_type": "markdown",
   "metadata": {},
   "source": [
    "******\n",
    "<h2>Data Pre-processing</h2>\n",
    "\n",
    "**Load libraries and data**"
   ]
  },
  {
   "cell_type": "code",
   "execution_count": 41,
   "metadata": {},
   "outputs": [],
   "source": [
    "#Load libraries\n",
    "library(readxl)\n",
    "library(dplyr)\n",
    "library(ggplot2)\n",
    "library(grid)\n",
    "library(gridExtra)\n",
    "library(RColorBrewer)\n",
    "library(mlr)\n",
    "\n",
    "#Read data \n",
    "data = read_excel('WA_Fn-UseC_-HR-Employee-Attrition.xlsx')\n",
    "\n",
    "#set seed\n",
    "set.seed(123)"
   ]
  },
  {
   "cell_type": "markdown",
   "metadata": {},
   "source": [
    "**Examine data structure** "
   ]
  },
  {
   "cell_type": "code",
   "execution_count": 42,
   "metadata": {},
   "outputs": [
    {
     "name": "stdout",
     "output_type": "stream",
     "text": [
      "Classes 'tbl_df', 'tbl' and 'data.frame':\t1470 obs. of  35 variables:\n",
      " $ Age                     : num  41 49 37 33 27 32 59 30 38 36 ...\n",
      " $ Attrition               : chr  \"Yes\" \"No\" \"Yes\" \"No\" ...\n",
      " $ BusinessTravel          : chr  \"Travel_Rarely\" \"Travel_Frequently\" \"Travel_Rarely\" \"Travel_Frequently\" ...\n",
      " $ DailyRate               : num  1102 279 1373 1392 591 ...\n",
      " $ Department              : chr  \"Sales\" \"Research & Development\" \"Research & Development\" \"Research & Development\" ...\n",
      " $ DistanceFromHome        : num  1 8 2 3 2 2 3 24 23 27 ...\n",
      " $ Education               : num  2 1 2 4 1 2 3 1 3 3 ...\n",
      " $ EducationField          : chr  \"Life Sciences\" \"Life Sciences\" \"Other\" \"Life Sciences\" ...\n",
      " $ EmployeeCount           : num  1 1 1 1 1 1 1 1 1 1 ...\n",
      " $ EmployeeNumber          : num  1 2 4 5 7 8 10 11 12 13 ...\n",
      " $ EnvironmentSatisfaction : num  2 3 4 4 1 4 3 4 4 3 ...\n",
      " $ Gender                  : chr  \"Female\" \"Male\" \"Male\" \"Female\" ...\n",
      " $ HourlyRate              : num  94 61 92 56 40 79 81 67 44 94 ...\n",
      " $ JobInvolvement          : num  3 2 2 3 3 3 4 3 2 3 ...\n",
      " $ JobLevel                : num  2 2 1 1 1 1 1 1 3 2 ...\n",
      " $ JobRole                 : chr  \"Sales Executive\" \"Research Scientist\" \"Laboratory Technician\" \"Research Scientist\" ...\n",
      " $ JobSatisfaction         : num  4 2 3 3 2 4 1 3 3 3 ...\n",
      " $ MaritalStatus           : chr  \"Single\" \"Married\" \"Single\" \"Married\" ...\n",
      " $ MonthlyIncome           : num  5993 5130 2090 2909 3468 ...\n",
      " $ MonthlyRate             : num  19479 24907 2396 23159 16632 ...\n",
      " $ NumCompaniesWorked      : num  8 1 6 1 9 0 4 1 0 6 ...\n",
      " $ Over18                  : chr  \"Y\" \"Y\" \"Y\" \"Y\" ...\n",
      " $ OverTime                : chr  \"Yes\" \"No\" \"Yes\" \"Yes\" ...\n",
      " $ PercentSalaryHike       : num  11 23 15 11 12 13 20 22 21 13 ...\n",
      " $ PerformanceRating       : num  3 4 3 3 3 3 4 4 4 3 ...\n",
      " $ RelationshipSatisfaction: num  1 4 2 3 4 3 1 2 2 2 ...\n",
      " $ StandardHours           : num  80 80 80 80 80 80 80 80 80 80 ...\n",
      " $ StockOptionLevel        : num  0 1 0 0 1 0 3 1 0 2 ...\n",
      " $ TotalWorkingYears       : num  8 10 7 8 6 8 12 1 10 17 ...\n",
      " $ TrainingTimesLastYear   : num  0 3 3 3 3 2 3 2 2 3 ...\n",
      " $ WorkLifeBalance         : num  1 3 3 3 3 2 2 3 3 2 ...\n",
      " $ YearsAtCompany          : num  6 10 0 8 2 7 1 1 9 7 ...\n",
      " $ YearsInCurrentRole      : num  4 7 0 7 2 7 0 0 7 7 ...\n",
      " $ YearsSinceLastPromotion : num  0 1 0 3 2 3 0 0 1 7 ...\n",
      " $ YearsWithCurrManager    : num  5 7 0 0 2 6 0 0 8 7 ...\n"
     ]
    }
   ],
   "source": [
    "str(data)\n",
    "#summary(data) #don't want to clutter the output"
   ]
  },
  {
   "cell_type": "code",
   "execution_count": 43,
   "metadata": {
    "scrolled": true
   },
   "outputs": [
    {
     "data": {
      "text/html": [
       "<table>\n",
       "<thead><tr><th scope=col>Age</th><th scope=col>Attrition</th><th scope=col>BusinessTravel</th><th scope=col>DailyRate</th><th scope=col>Department</th><th scope=col>DistanceFromHome</th><th scope=col>Education</th><th scope=col>EducationField</th><th scope=col>EmployeeCount</th><th scope=col>EmployeeNumber</th><th scope=col>...</th><th scope=col>RelationshipSatisfaction</th><th scope=col>StandardHours</th><th scope=col>StockOptionLevel</th><th scope=col>TotalWorkingYears</th><th scope=col>TrainingTimesLastYear</th><th scope=col>WorkLifeBalance</th><th scope=col>YearsAtCompany</th><th scope=col>YearsInCurrentRole</th><th scope=col>YearsSinceLastPromotion</th><th scope=col>YearsWithCurrManager</th></tr></thead>\n",
       "<tbody>\n",
       "\t<tr><td>41                    </td><td>Yes                   </td><td>Travel_Rarely         </td><td>1102                  </td><td>Sales                 </td><td>1                     </td><td>2                     </td><td>Life Sciences         </td><td>1                     </td><td>1                     </td><td>...                   </td><td>1                     </td><td>80                    </td><td>0                     </td><td> 8                    </td><td>0                     </td><td>1                     </td><td> 6                    </td><td>4                     </td><td>0                     </td><td>5                     </td></tr>\n",
       "\t<tr><td>49                        </td><td>No                        </td><td>Travel_Frequently         </td><td> 279                      </td><td>Research &amp; Development</td><td>8                         </td><td>1                         </td><td>Life Sciences             </td><td>1                         </td><td>2                         </td><td>...                       </td><td>4                         </td><td>80                        </td><td>1                         </td><td>10                        </td><td>3                         </td><td>3                         </td><td>10                        </td><td>7                         </td><td>1                         </td><td>7                         </td></tr>\n",
       "\t<tr><td>37                                                       </td><td>Yes                                                      </td><td><span style=white-space:pre-wrap>Travel_Rarely    </span></td><td>1373                                                     </td><td>Research &amp; Development                               </td><td>2                                                        </td><td>2                                                        </td><td><span style=white-space:pre-wrap>Other        </span>    </td><td>1                                                        </td><td>4                                                        </td><td>...                                                      </td><td>2                                                        </td><td>80                                                       </td><td>0                                                        </td><td> 7                                                       </td><td>3                                                        </td><td>3                                                        </td><td> 0                                                       </td><td>0                                                        </td><td>0                                                        </td><td>0                                                        </td></tr>\n",
       "\t<tr><td>33                        </td><td>No                        </td><td>Travel_Frequently         </td><td>1392                      </td><td>Research &amp; Development</td><td>3                         </td><td>4                         </td><td>Life Sciences             </td><td>1                         </td><td>5                         </td><td>...                       </td><td>3                         </td><td>80                        </td><td>0                         </td><td> 8                        </td><td>3                         </td><td>3                         </td><td> 8                        </td><td>7                         </td><td>3                         </td><td>0                         </td></tr>\n",
       "\t<tr><td>27                                                       </td><td>No                                                       </td><td><span style=white-space:pre-wrap>Travel_Rarely    </span></td><td> 591                                                     </td><td>Research &amp; Development                               </td><td>2                                                        </td><td>1                                                        </td><td><span style=white-space:pre-wrap>Medical      </span>    </td><td>1                                                        </td><td>7                                                        </td><td>...                                                      </td><td>4                                                        </td><td>80                                                       </td><td>1                                                        </td><td> 6                                                       </td><td>3                                                        </td><td>3                                                        </td><td> 2                                                       </td><td>2                                                        </td><td>2                                                        </td><td>2                                                        </td></tr>\n",
       "\t<tr><td>32                        </td><td>No                        </td><td>Travel_Frequently         </td><td>1005                      </td><td>Research &amp; Development</td><td>2                         </td><td>2                         </td><td>Life Sciences             </td><td>1                         </td><td>8                         </td><td>...                       </td><td>3                         </td><td>80                        </td><td>0                         </td><td> 8                        </td><td>2                         </td><td>2                         </td><td> 7                        </td><td>7                         </td><td>3                         </td><td>6                         </td></tr>\n",
       "</tbody>\n",
       "</table>\n"
      ],
      "text/latex": [
       "\\begin{tabular}{r|lllllllllllllllllllllllllllllllllll}\n",
       " Age & Attrition & BusinessTravel & DailyRate & Department & DistanceFromHome & Education & EducationField & EmployeeCount & EmployeeNumber & ... & RelationshipSatisfaction & StandardHours & StockOptionLevel & TotalWorkingYears & TrainingTimesLastYear & WorkLifeBalance & YearsAtCompany & YearsInCurrentRole & YearsSinceLastPromotion & YearsWithCurrManager\\\\\n",
       "\\hline\n",
       "\t 41                     & Yes                    & Travel\\_Rarely        & 1102                   & Sales                  & 1                      & 2                      & Life Sciences          & 1                      & 1                      & ...                    & 1                      & 80                     & 0                      &  8                     & 0                      & 1                      &  6                     & 4                      & 0                      & 5                     \\\\\n",
       "\t 49                       & No                       & Travel\\_Frequently      &  279                     & Research \\& Development & 8                        & 1                        & Life Sciences            & 1                        & 2                        & ...                      & 4                        & 80                       & 1                        & 10                       & 3                        & 3                        & 10                       & 7                        & 1                        & 7                       \\\\\n",
       "\t 37                       & Yes                      & Travel\\_Rarely          & 1373                     & Research \\& Development & 2                        & 2                        & Other                    & 1                        & 4                        & ...                      & 2                        & 80                       & 0                        &  7                       & 3                        & 3                        &  0                       & 0                        & 0                        & 0                       \\\\\n",
       "\t 33                       & No                       & Travel\\_Frequently      & 1392                     & Research \\& Development & 3                        & 4                        & Life Sciences            & 1                        & 5                        & ...                      & 3                        & 80                       & 0                        &  8                       & 3                        & 3                        &  8                       & 7                        & 3                        & 0                       \\\\\n",
       "\t 27                       & No                       & Travel\\_Rarely          &  591                     & Research \\& Development & 2                        & 1                        & Medical                  & 1                        & 7                        & ...                      & 4                        & 80                       & 1                        &  6                       & 3                        & 3                        &  2                       & 2                        & 2                        & 2                       \\\\\n",
       "\t 32                       & No                       & Travel\\_Frequently      & 1005                     & Research \\& Development & 2                        & 2                        & Life Sciences            & 1                        & 8                        & ...                      & 3                        & 80                       & 0                        &  8                       & 2                        & 2                        &  7                       & 7                        & 3                        & 6                       \\\\\n",
       "\\end{tabular}\n"
      ],
      "text/markdown": [
       "\n",
       "Age | Attrition | BusinessTravel | DailyRate | Department | DistanceFromHome | Education | EducationField | EmployeeCount | EmployeeNumber | ... | RelationshipSatisfaction | StandardHours | StockOptionLevel | TotalWorkingYears | TrainingTimesLastYear | WorkLifeBalance | YearsAtCompany | YearsInCurrentRole | YearsSinceLastPromotion | YearsWithCurrManager | \n",
       "|---|---|---|---|---|---|\n",
       "| 41                     | Yes                    | Travel_Rarely          | 1102                   | Sales                  | 1                      | 2                      | Life Sciences          | 1                      | 1                      | ...                    | 1                      | 80                     | 0                      |  8                     | 0                      | 1                      |  6                     | 4                      | 0                      | 5                      | \n",
       "| 49                     | No                     | Travel_Frequently      |  279                   | Research & Development | 8                      | 1                      | Life Sciences          | 1                      | 2                      | ...                    | 4                      | 80                     | 1                      | 10                     | 3                      | 3                      | 10                     | 7                      | 1                      | 7                      | \n",
       "| 37                     | Yes                    | Travel_Rarely          | 1373                   | Research & Development | 2                      | 2                      | Other                  | 1                      | 4                      | ...                    | 2                      | 80                     | 0                      |  7                     | 3                      | 3                      |  0                     | 0                      | 0                      | 0                      | \n",
       "| 33                     | No                     | Travel_Frequently      | 1392                   | Research & Development | 3                      | 4                      | Life Sciences          | 1                      | 5                      | ...                    | 3                      | 80                     | 0                      |  8                     | 3                      | 3                      |  8                     | 7                      | 3                      | 0                      | \n",
       "| 27                     | No                     | Travel_Rarely          |  591                   | Research & Development | 2                      | 1                      | Medical                | 1                      | 7                      | ...                    | 4                      | 80                     | 1                      |  6                     | 3                      | 3                      |  2                     | 2                      | 2                      | 2                      | \n",
       "| 32                     | No                     | Travel_Frequently      | 1005                   | Research & Development | 2                      | 2                      | Life Sciences          | 1                      | 8                      | ...                    | 3                      | 80                     | 0                      |  8                     | 2                      | 2                      |  7                     | 7                      | 3                      | 6                      | \n",
       "\n",
       "\n"
      ],
      "text/plain": [
       "  Age Attrition BusinessTravel    DailyRate Department            \n",
       "1 41  Yes       Travel_Rarely     1102      Sales                 \n",
       "2 49  No        Travel_Frequently  279      Research & Development\n",
       "3 37  Yes       Travel_Rarely     1373      Research & Development\n",
       "4 33  No        Travel_Frequently 1392      Research & Development\n",
       "5 27  No        Travel_Rarely      591      Research & Development\n",
       "6 32  No        Travel_Frequently 1005      Research & Development\n",
       "  DistanceFromHome Education EducationField EmployeeCount EmployeeNumber ...\n",
       "1 1                2         Life Sciences  1             1              ...\n",
       "2 8                1         Life Sciences  1             2              ...\n",
       "3 2                2         Other          1             4              ...\n",
       "4 3                4         Life Sciences  1             5              ...\n",
       "5 2                1         Medical        1             7              ...\n",
       "6 2                2         Life Sciences  1             8              ...\n",
       "  RelationshipSatisfaction StandardHours StockOptionLevel TotalWorkingYears\n",
       "1 1                        80            0                 8               \n",
       "2 4                        80            1                10               \n",
       "3 2                        80            0                 7               \n",
       "4 3                        80            0                 8               \n",
       "5 4                        80            1                 6               \n",
       "6 3                        80            0                 8               \n",
       "  TrainingTimesLastYear WorkLifeBalance YearsAtCompany YearsInCurrentRole\n",
       "1 0                     1                6             4                 \n",
       "2 3                     3               10             7                 \n",
       "3 3                     3                0             0                 \n",
       "4 3                     3                8             7                 \n",
       "5 3                     3                2             2                 \n",
       "6 2                     2                7             7                 \n",
       "  YearsSinceLastPromotion YearsWithCurrManager\n",
       "1 0                       5                   \n",
       "2 1                       7                   \n",
       "3 0                       0                   \n",
       "4 3                       0                   \n",
       "5 2                       2                   \n",
       "6 3                       6                   "
      ]
     },
     "metadata": {},
     "output_type": "display_data"
    }
   ],
   "source": [
    "head(data)"
   ]
  },
  {
   "cell_type": "markdown",
   "metadata": {},
   "source": [
    "**Setup task**"
   ]
  },
  {
   "cell_type": "code",
   "execution_count": 44,
   "metadata": {},
   "outputs": [],
   "source": [
    "#Convert character to factors, except 'Attrition'\n",
    "data = data %>% mutate_if(is.character,as.factor) \n",
    "data$Attrition = as.character(data$Attrition)\n",
    "\n",
    "#Convert data to data frame\n",
    "data = as.data.frame(data)\n",
    "\n",
    "#Remove redundant features \n",
    "data$Over18 = NULL\n",
    "data$StandardHours = NULL\n",
    "data$EmployeeCount = NULL\n",
    "\n",
    "#Define task \n",
    "attr.task = makeClassifTask(data=data, target='Attrition')"
   ]
  },
  {
   "cell_type": "markdown",
   "metadata": {},
   "source": [
    "********\n",
    "<h2>Exploratory Data Analysis</h2>"
   ]
  },
  {
   "cell_type": "markdown",
   "metadata": {},
   "source": [
    "Let's start off by looking what percentage of the staff left. Based on the data, it is around 16%."
   ]
  },
  {
   "cell_type": "code",
   "execution_count": 45,
   "metadata": {},
   "outputs": [
    {
     "name": "stdout",
     "output_type": "stream",
     "text": [
      "[1] 0.161\n"
     ]
    }
   ],
   "source": [
    "print(round(sum(data$Attrition == 'Yes')/nrow(data),3))"
   ]
  },
  {
   "cell_type": "markdown",
   "metadata": {},
   "source": [
    "Examine some of the features with regards to Attrition in detail"
   ]
  },
  {
   "cell_type": "code",
   "execution_count": 53,
   "metadata": {},
   "outputs": [
    {
     "data": {
      "image/png": "[encoded data removed]",
      "text/plain": [
       "plot without title"
      ]
     },
     "metadata": {},
     "output_type": "display_data"
    }
   ],
   "source": [
    "\n",
    "plot.Age = ggplot(data,aes(Age,fill=Attrition))+geom_density()+facet_grid(~Attrition) + scale_fill_brewer(palette=\"Set2\")\n",
    "plot.DistanceFromHome = ggplot(data,aes(DistanceFromHome,fill=Attrition)) + geom_area(stat='bin', binwidth=1) + facet_grid(~Attrition) + scale_fill_brewer(palette=\"Set2\")\n",
    "plot.JobRole = ggplot(data,aes(JobRole, fill=Attrition)) + geom_bar() + scale_fill_brewer(palette=\"Set2\") + coord_flip()\n",
    "plot.MonthlyIncome = ggplot(data,aes(MonthlyIncome,fill=Attrition)) +geom_density(alpha = 0.5) + scale_fill_brewer(palette=\"Set2\")\n",
    "plot.OverTime = ggplot(data,aes(OverTime,fill=Attrition))+geom_bar() + scale_fill_brewer(palette=\"Set2\")\n",
    "plot.TrainingTimesLastYear = ggplot(data,aes(TrainingTimesLastYear,fill = Attrition))+geom_bar() +facet_grid(~Attrition) + scale_fill_brewer(palette=\"Set2\")\n",
    "\n",
    "\n",
    "grid.arrange(plot.Age,plot.MonthlyIncome,\n",
    "             plot.DistanceFromHome,plot.JobRole,\n",
    "             plot.OverTime,plot.TrainingTimesLastYear, ncol=2)\n"
   ]
  },
  {
   "cell_type": "markdown",
   "metadata": {},
   "source": [
    "********\n",
    "<h2>Fit Models</h2>"
   ]
  },
  {
   "cell_type": "markdown",
   "metadata": {},
   "source": [
    "**Choose Models**"
   ]
  },
  {
   "cell_type": "code",
   "execution_count": 54,
   "metadata": {
    "collapsed": true
   },
   "outputs": [],
   "source": [
    "## 3 models - Logistic Regression, Adaboost and Naive Bayes\n",
    "## Logistic regression - regression model to model categorical variable, and in this case a binary outcome of either attrition or not\n",
    "## Adaboost - Adaptive boosting, ensemble of weak learners, whereby each subsequent learner 'adapts' to the previously misclassified data \n",
    "## Naive Bayes - simple probablistic classifier by applying Bayes Theorem with strong independent assumptions about features\n",
    "\n",
    "lrns = list(\n",
    "  makeLearner(\"classif.logreg\", id = \"logreg\"),\n",
    "  makeLearner(\"classif.ada\", id = \"ada\"), #adaboost\n",
    "  makeLearner(\"classif.naiveBayes\", id = \"nb\") #naive bayes\n",
    ")\n"
   ]
  },
  {
   "cell_type": "markdown",
   "metadata": {},
   "source": [
    "**Choose resampling strategy**"
   ]
  },
  {
   "cell_type": "code",
   "execution_count": 56,
   "metadata": {
    "collapsed": true
   },
   "outputs": [],
   "source": [
    "## Set the resampling strategy to 5 fold cross validation\n",
    "## use to increase the number of observations for model fitting and evaluation, especially since attrition is a small % of the data\n",
    "\n",
    "rdesc = makeResampleDesc('CV',iters= 5)"
   ]
  },
  {
   "cell_type": "markdown",
   "metadata": {},
   "source": [
    "**Evaluate model performance**\n",
    "\n",
    "Performance would be evaluated based on two metrics - accuracy and false negative rate. \n",
    "\n",
    "Accuracy is what % of the predictions are correct. The higher the accuracy, the better the performance.\n",
    "\n",
    "False negative rate is how many of those who left were accurately predicted. This additional metric is used since failing to predict an attrition is (probably) worse than falsely detecting attrition. The lower the false negative rate, the better the performance.      "
   ]
  },
  {
   "cell_type": "code",
   "execution_count": 57,
   "metadata": {},
   "outputs": [
    {
     "name": "stderr",
     "output_type": "stream",
     "text": [
      "Task: data, Learner: logreg\n",
      "[Resample] cross-validation iter 1: acc.test.mean=0.871,fpr.test.mean=0.54\n",
      "[Resample] cross-validation iter 2: acc.test.mean=0.888,fpr.test.mean= 0.5\n",
      "[Resample] cross-validation iter 3: acc.test.mean=0.908,fpr.test.mean=0.548\n",
      "[Resample] cross-validation iter 4: acc.test.mean=0.874,fpr.test.mean=0.628\n",
      "[Resample] cross-validation iter 5: acc.test.mean=0.878,fpr.test.mean=0.538\n",
      "[Resample] Aggr. Result: acc.test.mean=0.884,fpr.test.mean=0.551\n",
      "Task: data, Learner: ada\n",
      "[Resample] cross-validation iter 1: acc.test.mean=0.864,fpr.test.mean=0.76\n",
      "[Resample] cross-validation iter 2: acc.test.mean=0.857,fpr.test.mean=0.72\n",
      "[Resample] cross-validation iter 3: acc.test.mean=0.888,fpr.test.mean=0.714\n",
      "[Resample] cross-validation iter 4: acc.test.mean=0.884,fpr.test.mean=0.698\n",
      "[Resample] cross-validation iter 5: acc.test.mean=0.854,fpr.test.mean=0.827\n",
      "[Resample] Aggr. Result: acc.test.mean=0.869,fpr.test.mean=0.744\n",
      "Task: data, Learner: nb\n",
      "[Resample] cross-validation iter 1: acc.test.mean=0.786,fpr.test.mean=0.38\n",
      "[Resample] cross-validation iter 2: acc.test.mean=0.752,fpr.test.mean=0.36\n",
      "[Resample] cross-validation iter 3: acc.test.mean=0.765,fpr.test.mean=0.333\n",
      "[Resample] cross-validation iter 4: acc.test.mean=0.755,fpr.test.mean=0.395\n",
      "[Resample] cross-validation iter 5: acc.test.mean=0.833,fpr.test.mean=0.346\n",
      "[Resample] Aggr. Result: acc.test.mean=0.778,fpr.test.mean=0.363\n"
     ]
    }
   ],
   "source": [
    "## Note that the fpr measure in mlr package defines false positive rate as the % of misclassifications in the positive class (i.e. false negative rate)\n",
    "## Results verified using the confusion matrices\n",
    "## The lower the fpr, the better the model at predicting those who actually left out of those who left\n",
    "\n",
    "meas = list(acc,fpr)\n",
    "\n",
    "bmr = benchmark(lrns, attr.task, rdesc, measures=meas)\n"
   ]
  },
  {
   "cell_type": "code",
   "execution_count": 58,
   "metadata": {},
   "outputs": [
    {
     "data": {
      "text/plain": [
       "        predicted\n",
       "true       No Yes -err.-\n",
       "  No     1192  41     41\n",
       "  Yes     130 107    130\n",
       "  -err.-  130  41    171"
      ]
     },
     "metadata": {},
     "output_type": "display_data"
    },
    {
     "data": {
      "text/plain": [
       "        predicted\n",
       "true       No Yes -err.-\n",
       "  No     1218  15     15\n",
       "  Yes     177  60    177\n",
       "  -err.-  177  15    192"
      ]
     },
     "metadata": {},
     "output_type": "display_data"
    },
    {
     "data": {
      "text/plain": [
       "        predicted\n",
       "true      No Yes -err.-\n",
       "  No     993 240    240\n",
       "  Yes     86 151     86\n",
       "  -err.-  86 240    326"
      ]
     },
     "metadata": {},
     "output_type": "display_data"
    }
   ],
   "source": [
    "#Calculate confusion matrices \n",
    "calculateConfusionMatrix(getBMRPredictions(bmr)$data$logreg)\n",
    "calculateConfusionMatrix(getBMRPredictions(bmr)$data$ada)\n",
    "calculateConfusionMatrix(getBMRPredictions(bmr)$data$nb)"
   ]
  },
  {
   "cell_type": "markdown",
   "metadata": {},
   "source": [
    "**Aggregated Performance**"
   ]
  },
  {
   "cell_type": "code",
   "execution_count": 59,
   "metadata": {},
   "outputs": [
    {
     "data": {
      "text/html": [
       "<strong>$data</strong> = <dl>\n",
       "\t<dt>$logreg</dt>\n",
       "\t\t<dd><dl class=dl-horizontal>\n",
       "\t<dt>acc.test.mean</dt>\n",
       "\t\t<dd>0.883673469387755</dd>\n",
       "\t<dt>fpr.test.mean</dt>\n",
       "\t\t<dd>0.550797512564954</dd>\n",
       "</dl>\n",
       "</dd>\n",
       "\t<dt>$ada</dt>\n",
       "\t\t<dd><dl class=dl-horizontal>\n",
       "\t<dt>acc.test.mean</dt>\n",
       "\t\t<dd>0.869387755102041</dd>\n",
       "\t<dt>fpr.test.mean</dt>\n",
       "\t\t<dd>0.743776641962688</dd>\n",
       "</dl>\n",
       "</dd>\n",
       "\t<dt>$nb</dt>\n",
       "\t\t<dd><dl class=dl-horizontal>\n",
       "\t<dt>acc.test.mean</dt>\n",
       "\t\t<dd>0.778231292517007</dd>\n",
       "\t<dt>fpr.test.mean</dt>\n",
       "\t\t<dd>0.362967203339296</dd>\n",
       "</dl>\n",
       "</dd>\n",
       "</dl>\n"
      ],
      "text/latex": [
       "\\textbf{\\$data} = \\begin{description}\n",
       "\\item[\\$logreg] \\begin{description*}\n",
       "\\item[acc.test.mean] 0.883673469387755\n",
       "\\item[fpr.test.mean] 0.550797512564954\n",
       "\\end{description*}\n",
       "\n",
       "\\item[\\$ada] \\begin{description*}\n",
       "\\item[acc.test.mean] 0.869387755102041\n",
       "\\item[fpr.test.mean] 0.743776641962688\n",
       "\\end{description*}\n",
       "\n",
       "\\item[\\$nb] \\begin{description*}\n",
       "\\item[acc.test.mean] 0.778231292517007\n",
       "\\item[fpr.test.mean] 0.362967203339296\n",
       "\\end{description*}\n",
       "\n",
       "\\end{description}\n"
      ],
      "text/markdown": [
       "**$data** = $logreg\n",
       ":   acc.test.mean\n",
       ":   0.883673469387755fpr.test.mean\n",
       ":   0.550797512564954\n",
       "\n",
       "\n",
       "$ada\n",
       ":   acc.test.mean\n",
       ":   0.869387755102041fpr.test.mean\n",
       ":   0.743776641962688\n",
       "\n",
       "\n",
       "$nb\n",
       ":   acc.test.mean\n",
       ":   0.778231292517007fpr.test.mean\n",
       ":   0.362967203339296\n",
       "\n",
       "\n",
       "\n",
       "\n"
      ],
      "text/plain": [
       "$data\n",
       "$data$logreg\n",
       "acc.test.mean fpr.test.mean \n",
       "    0.8836735     0.5507975 \n",
       "\n",
       "$data$ada\n",
       "acc.test.mean fpr.test.mean \n",
       "    0.8693878     0.7437766 \n",
       "\n",
       "$data$nb\n",
       "acc.test.mean fpr.test.mean \n",
       "    0.7782313     0.3629672 \n",
       "\n"
      ]
     },
     "metadata": {},
     "output_type": "display_data"
    }
   ],
   "source": [
    "getBMRAggrPerformances(bmr)"
   ]
  },
  {
   "cell_type": "markdown",
   "metadata": {},
   "source": [
    "**Performance**\n",
    "\n",
    "Based on the accuracy metric, logistic regression model was the best perfoming model with an accuracy of 88%, followed by adaboost model (87%) and lastly by naive bayes model (77%).\n",
    "\n",
    "However, based on the false negative rate, naive bayes model was able to predict 63% of those who left correctly, followed by  logistic regression model (45%) and lastly by adaboost model (24%).\n",
    "\n",
    "The trained model(s) could be used to predict existing staff propensity of attrition. Those with high propensity of quitting could be targeted for intervention policies."
   ]
  }
 ],
 "metadata": {
  "kernelspec": {
   "display_name": "R",
   "language": "R",
   "name": "ir"
  },
  "language_info": {
   "codemirror_mode": "r",
   "file_extension": ".r",
   "mimetype": "text/x-r-source",
   "name": "R",
   "pygments_lexer": "r",
   "version": "3.4.1"
  }
 },
 "nbformat": 4,
 "nbformat_minor": 2
}
